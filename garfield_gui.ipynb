{
 "cells": [
  {
   "cell_type": "markdown",
   "id": "f5567287-b42b-4b50-875b-073bd7c5fec7",
   "metadata": {},
   "source": [
    "***\n",
    "#### no notebook is complete without an easy interface, so working with gradio to create one for garfield.\n",
    "##### - gradio is a python library that creates interactive web pages. it's simple with few frills, but gets the job done.\n",
    "***"
   ]
  },
  {
   "cell_type": "code",
   "execution_count": 1,
   "id": "fd2e8799-357f-4e97-92df-a4898e256db9",
   "metadata": {},
   "outputs": [],
   "source": [
    "# imports\n",
    "import gradio as gr\n",
    "from functions import *"
   ]
  },
  {
   "cell_type": "code",
   "execution_count": 2,
   "id": "654188c4-8d1f-427d-9937-4122c67a9866",
   "metadata": {},
   "outputs": [],
   "source": [
    "# with gr.Blocks() as app:\n",
    "#     # create header and app description\n",
    "#     gr.Markdown(\"# Resume Optimizer 📄\")\n",
    "#     gr.Markdown(\"Upload your resume, paste the job description, and get actionable insights!\")\n",
    "\n",
    "#     # gather inputs\n",
    "#     with gr.Row():\n",
    "#         resume_input = gr.File(label=\"Upload Your Resume (.md)\")    \n",
    "#         jd_input = gr.Textbox(label=\"Paste the Job Description Here\", lines=9, interactive=True, placeholder=\"Paste job description...\")\n",
    "#     run_button = gr.Button(\"Optimize Resume 🤖\")\n",
    "\n",
    "#     # display outputs\n",
    "#     output_resume_md = gr.Markdown(label=\"New Resume\")\n",
    "#     output_suggestions = gr.Markdown(label=\"Suggestions\")\n",
    "\n",
    "#     # editing results\n",
    "#     output_resume = gr.Textbox(label=\"Edit resume and export!\", interactive=True)\n",
    "#     export_button = gr.Button(\"Export Resume as PDF 🚀\")\n",
    "#     export_result = gr.Markdown(label=\"Export Result\")\n",
    "    \n",
    "#     # Event binding\n",
    "#     run_button.click(process_resume, inputs=[resume_input, jd_input], outputs=[output_resume_md, output_resume, output_suggestions])\n",
    "#     export_button.click(export_resume, inputs=[output_resume], outputs=[export_result])\n",
    "\n",
    "# # Launch the app\n",
    "# app.launch()"
   ]
  },
  {
   "cell_type": "code",
   "execution_count": 6,
   "id": "c3dc70f1-0afa-4b20-bab3-054d3206f4d5",
   "metadata": {},
   "outputs": [
    {
     "name": "stdout",
     "output_type": "stream",
     "text": [
      "* Running on local URL:  http://127.0.0.1:7860\n",
      "\n",
      "To create a public link, set `share=True` in `launch()`.\n"
     ]
    },
    {
     "data": {
      "text/html": [
       "<div><iframe src=\"http://127.0.0.1:7860/\" width=\"100%\" height=\"500\" allow=\"autoplay; camera; microphone; clipboard-read; clipboard-write;\" frameborder=\"0\" allowfullscreen></iframe></div>"
      ],
      "text/plain": [
       "<IPython.core.display.HTML object>"
      ]
     },
     "metadata": {},
     "output_type": "display_data"
    },
    {
     "data": {
      "text/plain": []
     },
     "execution_count": 6,
     "metadata": {},
     "output_type": "execute_result"
    }
   ],
   "source": [
    "# code\n",
    "with gr.Blocks() as app:\n",
    "    # header creation / description\n",
    "    gr.Markdown(\"# PieceAPI\")\n",
    "    gr.Markdown(\"Easily Read Cat API calls for Improved Prompt Engineering!\")\n",
    "\n",
    "    # gather inputs\n",
    "    with gr.Row():\n",
    "        api_call = gr.File(label = \"Call the Cat API\")\n",
    "    run_button = gr.Button(\"Give Me the Goods!\")\n",
    "\n",
    "    # show outputs\n",
    "    api_read = gr.Markdown(label = \"Here's Your Info: \")\n",
    "    export_button = gr.Button(\"Export API as .CSV\")\n",
    "    export_result = gr.Markdown(label = \"Export Result\")\n",
    "\n",
    "    # link all the events\n",
    "   # run_button.click(process_api, inputs = [api_call], outputs = [api_read])\n",
    "    export_button.click(garfield, inputs = [api_read], outputs = [export_result])\n",
    "\n",
    "# send it\n",
    "app.launch()"
   ]
  },
  {
   "cell_type": "code",
   "execution_count": null,
   "id": "8b61b634-6f6e-4532-b335-952773453dea",
   "metadata": {},
   "outputs": [],
   "source": []
  }
 ],
 "metadata": {
  "kernelspec": {
   "display_name": "Python 3 (ipykernel)",
   "language": "python",
   "name": "python3"
  },
  "language_info": {
   "codemirror_mode": {
    "name": "ipython",
    "version": 3
   },
   "file_extension": ".py",
   "mimetype": "text/x-python",
   "name": "python",
   "nbconvert_exporter": "python",
   "pygments_lexer": "ipython3",
   "version": "3.10.4"
  }
 },
 "nbformat": 4,
 "nbformat_minor": 5
}
