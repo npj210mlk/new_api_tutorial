{
 "cells": [
  {
   "cell_type": "code",
   "execution_count": 1,
   "id": "12be8ab5-337a-410a-8eb0-3d2f604093eb",
   "metadata": {},
   "outputs": [
    {
     "name": "stdout",
     "output_type": "stream",
     "text": [
      "                      text\n",
      "0      Its a beautiful day\n",
      "1               Dont worry\n",
      "2  The cats out of the bag\n"
     ]
    }
   ],
   "source": [
    "import pandas as pd\n",
    "\n",
    "# Sample DataFrame\n",
    "data = {'text': [\"It's a beautiful day\", \"Don't worry\", \"The cat's out of the bag\"]}\n",
    "df = pd.DataFrame(data)\n",
    "\n",
    "# Remove apostrophes from the 'text' column\n",
    "df['text'] = df['text'].str.replace(\"'\", \"\", regex=False)\n",
    "\n",
    "# Print the modified DataFrame\n",
    "print(df)"
   ]
  },
  {
   "cell_type": "code",
   "execution_count": null,
   "id": "caa93bca-29d7-4c8b-a123-5e65308c3b31",
   "metadata": {},
   "outputs": [],
   "source": []
  }
 ],
 "metadata": {
  "kernelspec": {
   "display_name": "Python 3 (ipykernel)",
   "language": "python",
   "name": "python3"
  },
  "language_info": {
   "codemirror_mode": {
    "name": "ipython",
    "version": 3
   },
   "file_extension": ".py",
   "mimetype": "text/x-python",
   "name": "python",
   "nbconvert_exporter": "python",
   "pygments_lexer": "ipython3",
   "version": "3.10.4"
  }
 },
 "nbformat": 4,
 "nbformat_minor": 5
}
