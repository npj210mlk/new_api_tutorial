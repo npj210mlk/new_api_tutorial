{
 "cells": [
  {
   "cell_type": "code",
   "execution_count": 1,
   "id": "12be8ab5-337a-410a-8eb0-3d2f604093eb",
   "metadata": {},
   "outputs": [
    {
     "name": "stdout",
     "output_type": "stream",
     "text": [
      "                      text\n",
      "0      Its a beautiful day\n",
      "1               Dont worry\n",
      "2  The cats out of the bag\n"
     ]
    }
   ],
   "source": [
    "import pandas as pd\n",
    "\n",
    "# Sample DataFrame\n",
    "data = {'text': [\"It's a beautiful day\", \"Don't worry\", \"The cat's out of the bag\"]}\n",
    "df = pd.DataFrame(data)\n",
    "\n",
    "# Remove apostrophes from the 'text' column\n",
    "df['text'] = df['text'].str.replace(\"'\", \"\", regex=False)\n",
    "\n",
    "# Print the modified DataFrame\n",
    "print(df)"
   ]
  },
  {
   "cell_type": "code",
   "execution_count": 2,
   "id": "caa93bca-29d7-4c8b-a123-5e65308c3b31",
   "metadata": {},
   "outputs": [
    {
     "name": "stdout",
     "output_type": "stream",
     "text": [
      "Data successfully saved to output.csv\n"
     ]
    }
   ],
   "source": [
    "import requests\n",
    "import json\n",
    "import pandas as pd\n",
    "from dotenv import load_dotenv\n",
    "import os\n",
    "\n",
    "url = \"https://api.thecatapi.com/v1/images/search?size=med&mime_types=jpg&format=json&has_breeds=true&order=RANDOM&page=0&limit=10\"\n",
    "\n",
    "cat_apikey = os.environ.get(\"cat_apikey\")\n",
    "\n",
    "url = \"https://api.thecatapi.com/v1/images/search?size=med&mime_types=jpg&format=json&has_breeds=true&order=RANDOM&page=0&limit=10\"\n",
    "\n",
    "def get_api_data(api_key, url):\n",
    "    \"\"\"\n",
    "    Fetches data from the given API endpoint.\n",
    "\n",
    "    Args:\n",
    "        api_key (str): The API key for authentication.\n",
    "        url (str): The URL of the API endpoint.\n",
    "\n",
    "    Returns:\n",
    "        list: A list of JSON responses from the API, or None on error.\n",
    "    \"\"\"\n",
    "    headers = {\n",
    "        'Content-Type': 'application/json',\n",
    "        'x-api-key': api_key\n",
    "    }\n",
    "    try:\n",
    "        response = requests.get(url, headers=headers)\n",
    "        response.raise_for_status()  # Raise exception for bad status\n",
    "        return response.json()  # Returns a list of dictionaries\n",
    "    except requests.exceptions.RequestException as e:\n",
    "        print(f\"Error fetching data: {e}\")\n",
    "        return None\n",
    "\n",
    "def process_api_data(api_data):\n",
    "    \"\"\"\n",
    "    Processes the API data, handling varying keys, and returns a list of dictionaries.\n",
    "\n",
    "    Args:\n",
    "        api_data (list): A list of dictionaries representing the API response.\n",
    "\n",
    "    Returns:\n",
    "        list: A list of dictionaries with consistent keys, or None on error.\n",
    "    \"\"\"\n",
    "    if not api_data:\n",
    "        print(\"Error: No data to process.\")\n",
    "        return None\n",
    "\n",
    "    # Use the keys from the first item in the API response to ensure consistent columns\n",
    "    first_item_keys = list(api_data[0].keys())\n",
    "    processed_data = []\n",
    "\n",
    "    for item in api_data:\n",
    "        # Create a new dictionary with all keys from the first item.\n",
    "        # If a key is missing in the current item, fill it with None.\n",
    "        processed_item = {key: item.get(key, None) for key in first_item_keys}\n",
    "        processed_data.append(processed_item)\n",
    "    return processed_data\n",
    "\n",
    "def save_to_csv(data, filename=\"output.csv\"):\n",
    "    \"\"\"\n",
    "    Saves the processed data to a CSV file.\n",
    "\n",
    "    Args:\n",
    "        data (list): A list of dictionaries representing the data to save.\n",
    "        filename (str, optional): The name of the CSV file. Defaults to \"output.csv\".\n",
    "    \"\"\"\n",
    "    if not data:\n",
    "        print(\"Error: No data to save to CSV.\")\n",
    "        return\n",
    "\n",
    "    try:\n",
    "        df = pd.DataFrame(data)\n",
    "        df.to_csv(filename, index=False)\n",
    "        print(f\"Data successfully saved to {filename}\")\n",
    "    except Exception as e:\n",
    "        print(f\"Error saving to CSV: {e}\")\n",
    "\n",
    "def main():\n",
    "    \"\"\"\n",
    "    Main function to orchestrate the data fetching, processing, and saving.\n",
    "    \"\"\"\n",
    "    load_dotenv()\n",
    "    api_key = os.environ.get(\"cat_apikey\") # Or the name of your API key environment variable\n",
    "    url = \"https://api.thecatapi.com/v1/images/search?size=med&mime_types=jpg&format=json&has_breeds=true&order=RANDOM&page=0&limit=10\" # Or the API url\n",
    "\n",
    "    # Fetch data from the API\n",
    "    api_data = get_api_data(api_key, url)\n",
    "\n",
    "    # Process the data\n",
    "    processed_data = process_api_data(api_data)\n",
    "\n",
    "    # Save the processed data to a CSV file\n",
    "    save_to_csv(processed_data)\n",
    "\n",
    "if __name__ == \"__main__\":\n",
    "    main()\n"
   ]
  },
  {
   "cell_type": "code",
   "execution_count": null,
   "id": "e3a7fab7-b469-4ea6-bf2c-9af2696b2f49",
   "metadata": {},
   "outputs": [],
   "source": []
  }
 ],
 "metadata": {
  "kernelspec": {
   "display_name": "Python 3 (ipykernel)",
   "language": "python",
   "name": "python3"
  },
  "language_info": {
   "codemirror_mode": {
    "name": "ipython",
    "version": 3
   },
   "file_extension": ".py",
   "mimetype": "text/x-python",
   "name": "python",
   "nbconvert_exporter": "python",
   "pygments_lexer": "ipython3",
   "version": "3.10.4"
  }
 },
 "nbformat": 4,
 "nbformat_minor": 5
}
